{
 "cells": [
  {
   "cell_type": "markdown",
   "metadata": {},
   "source": [
    "# Battle of Neighbourhoods \n",
    "\n",
    "#Weak1 \n",
    "\n",
    "#Dipanshu Sharma "
   ]
  },
  {
   "cell_type": "markdown",
   "metadata": {},
   "source": [
    "# Introduction: Business Problem"
   ]
  },
  {
   "cell_type": "markdown",
   "metadata": {},
   "source": [
    "The aim of this project is to find the best locations for French Bakery (pâtisserie) in the New York City area. Specifically, this report will be targeted to stakeholders who are interested in opening a French Bakery in New York, USA.\n",
    "\n",
    "New York is one the biggest cities in the world. It's both one of the largest economical center of the world and one of the most popular tourist attraction. With an estimated 2019 population of 8,336,817 distributed over about 302.6 square miles and a gross metropolitan product (GMP) of $2.0 trillion makes New York one of the most popular places to invest and open business there. There are many bakeries in NYC, we will conclude whare are the existing bakeries and also find locations where there are none. The report will explore in which neighborhoods and boroughs of NYC the most bakeries are located and where to open new French bakery."
   ]
  },
  {
   "cell_type": "markdown",
   "metadata": {},
   "source": [
    "# Problem description:"
   ]
  },
  {
   "cell_type": "markdown",
   "metadata": {},
   "source": [
    "A Bakery is a place where someone can usually buy breakfeast or some small-medium snack. French bakery specializes in french bread, pastries and sweets which allows it to run both as morning place to buy bread and also as a place to buy takeaway or get a small-medium lunch It's a competetive market so some assumptions have been made:\n",
    "\n",
    "1. it would be good to open new bakery where there are none or small number of bakeries\n",
    "2. as a hint for finding the best place it would be good to find locations with French Restaurants as bakery won't be the competitions to the restaurant (offers small takeaway meals) but would be located near other French joints - People in the area might be interested in additional French meals"
   ]
  },
  {
   "cell_type": "markdown",
   "metadata": {},
   "source": [
    "# Data"
   ]
  },
  {
   "cell_type": "markdown",
   "metadata": {},
   "source": [
    "\n",
    "In order to find the answers for the problems provided we need:\n",
    "a dataset that contains all 5 NYC boroughs and all of the neighborhoods (306) that exist in each borough as well as the the latitude and longitude coordinates of each neighborhood. NY CITY DATA SET has all these information:\n",
    "https://cocl.us/new_york_dataset\n",
    "DataSet is in csv format and it's free and available to download. Data set can provide us the below information:\n",
    "-Borough - borough name,\n",
    "-Neighborhood - neighbourhood name,\n",
    "-Latitude - latitute of the neighborhood,\n",
    "-Longitude - longtitude of the neighborhood\n",
    "which is enough to visualize Neighbourhoods and use them to query FourSqare data using API\n",
    "\n",
    "Example data from the DataSet:\n",
    "Borough Neighborhood Latitude Longitude\n",
    "0 Bronx Wakefield 40.894705 -73.847201\n",
    "1 Bronx Co-op City 40.874294 -73.829939\n",
    "2 Bronx Eastchester 40.887556 -73.827806\n",
    "\n",
    "location of current venues (we will filter the Bakeries and French Restaurants). For that we can use FourSquare API:\n",
    "https://api.foursquare.com/v2/venues/explore\n",
    "FourSquare API can provide us the below information:\n",
    "-VenueID (which can be used to identify Venue and get Venue details),\n",
    "-Venue Name - name of the Venue,\n",
    "-Venue Location - lat and lng of the Venue,\n",
    "-Venue categories - category of the Venue, in our case it will be used to filter Bakeries and French Restaurants\n",
    "We will use the API with our CLIENT_ID and SECRET to connect to FourSquare. For each neigborhood I will get the data using my own function def getNearbyVenues(names, latitudes, longitudes, boroughs) Data is returned as JSON with the below format:\n",
    "[\"response\"]['groups'][0]['items']['venue']\n",
    "where [\"venue\"] contains:\n",
    "-v['venue']['id']\n",
    "-v['venue']['name']\n",
    "-v['venue']['location']['lat']\n",
    "-v['venue']['location']['lng']\n",
    "-v['venue']['categories']\n",
    "\n",
    "Example data from the DataSet:\n",
    "\n",
    "|VenueID |Venue |Venue Latitude |Venue Longitude |Venue Category\n",
    "\n",
    "|4c537892fd2ea593cb077a28 |Lollipops Gelato |40.894123 |-73.845892 |Dessert Shop\n",
    "\n",
    "|4c783cef3badb1f7e4244b54 |Carvel Ice Cream |40.890487 |-73.848568 |Ice Cream Shop\n",
    "\n",
    "|5d5f5044d0ae1c0008f043c3 |Walgreens |40.896528 |-73.844700 |Pharmacy\n",
    "\n",
    "|4d33665fb6093704b80001e0 |Subway |40.890468 |-73.849152 |Sandwich Place"
   ]
  },
  {
   "cell_type": "markdown",
   "metadata": {},
   "source": [
    "# Methodology"
   ]
  },
  {
   "cell_type": "markdown",
   "metadata": {},
   "source": [
    "\n",
    "1. Download NY Data Set, clean and process the downloaded data and import it to Panda DataFrame<br>\n",
    "2. Visualize all the neighborhoods using Folium<br>\n",
    "3. Using FourSquare API localize all the bakeries in all the neighbourhoods.<br>\n",
    "4. Visualize the 'bakeries in the neighbourhoods' results (HeatMap)<br>\n",
    "5. Using FourSquare API data localize all the neighbourhoods without bakeries<br>\n",
    "6. Visualize the 'neighbourhoods without bakeries' results (HeatMap)<br>\n",
    "7. Using FourSquare API localize all the neighbourhoods with French Restaurants<br>\n",
    "8. Use k-means algorithm to group the data (bakeries and French Restaurants) into clusters (choose the best number of clusters)<br>\n",
    "9. Analyze and choose the best neighbourhoods among clusters based on the mean values among the clusters"
   ]
  },
  {
   "cell_type": "markdown",
   "metadata": {},
   "source": [
    "# Target Audience:"
   ]
  },
  {
   "cell_type": "markdown",
   "metadata": {},
   "source": [
    "To recommend the correct location, Bakery Company Ltd has appointed me to lead of the Data Science team. The objective is to locate and recommend to the management which neighborhood of New York city will be best choice to start a bakery. The Management also expects to understand the rationale of the recommendations made.\n",
    "This would interest anyone who wants to start a new bakery in New York."
   ]
  },
  {
   "cell_type": "markdown",
   "metadata": {},
   "source": [
    "# Success Criteria:"
   ]
  },
  {
   "cell_type": "markdown",
   "metadata": {},
   "source": [
    "The success criteria of the project will be a good recommendation of borough choice to Bakery Company Ltd based on lack of such venues in that location and popularity of French cousines in the area."
   ]
  },
  {
   "cell_type": "code",
   "execution_count": null,
   "metadata": {},
   "outputs": [],
   "source": []
  },
  {
   "cell_type": "code",
   "execution_count": null,
   "metadata": {},
   "outputs": [],
   "source": []
  }
 ],
 "metadata": {
  "kernelspec": {
   "display_name": "Python 3",
   "language": "python",
   "name": "python3"
  },
  "language_info": {
   "codemirror_mode": {
    "name": "ipython",
    "version": 3
   },
   "file_extension": ".py",
   "mimetype": "text/x-python",
   "name": "python",
   "nbconvert_exporter": "python",
   "pygments_lexer": "ipython3",
   "version": "3.8.5"
  }
 },
 "nbformat": 4,
 "nbformat_minor": 4
}
